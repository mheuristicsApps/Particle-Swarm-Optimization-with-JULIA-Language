{
 "cells": [
  {
   "cell_type": "code",
   "execution_count": 1,
   "id": "ff56a7d1-26e2-4cbb-8baa-176faf22a2f3",
   "metadata": {},
   "outputs": [
    {
     "name": "stdout",
     "output_type": "stream",
     "text": [
      "Best position: [1.696192, -2.936192, 1.696192, 0.6961919999999999, -1.303808, -1.303808, 0.06380800000000003, 1.0638079999999999, 3.063808, -0.3038080000000002]\n",
      "Best fitness: 28.874849648639994\n"
     ]
    }
   ],
   "source": [
    "using Random\n",
    "\n",
    "# Define sphere function\n",
    "function sphere_function(x)\n",
    "    return sum(x .^ 2)\n",
    "end\n",
    "\n",
    "# Define Particle struct\n",
    "mutable struct Particle\n",
    "    position::Array{Float64}\n",
    "    velocity::Array{Float64}\n",
    "    best_position::Array{Float64}\n",
    "    best_fitness::Float64\n",
    "    fitness::Float64\n",
    "end\n",
    "\n",
    "# Update particle velocity\n",
    "function update_velocity!(particle::Particle, w, c1, c2, global_best_position)\n",
    "    r1 = rand(size(particle.position))\n",
    "    r2 = rand(size(particle.position))\n",
    "    particle.velocity .= w * particle.velocity .+ c1 .* r1 .* (particle.best_position .- particle.position) .+ c2 .* r2 .* (global_best_position .- particle.position)\n",
    "end\n",
    "\n",
    "# Update particle position\n",
    "function update_position!(particle::Particle, bounds)\n",
    "    particle.position .= clamp.(particle.position .+ particle.velocity, bounds[1], bounds[2])\n",
    "end\n",
    "\n",
    "# Define PSO struct\n",
    "mutable struct PSO\n",
    "    objective_function\n",
    "    num_particles::Int\n",
    "    dim::Int\n",
    "    max_iter::Int\n",
    "    max_vel::Float64\n",
    "    bounds::Tuple{Float64, Float64}\n",
    "    w::Float64\n",
    "    c1::Float64\n",
    "    c2::Float64\n",
    "end\n",
    "\n",
    "# Optimization function\n",
    "function optimize(pso::PSO)\n",
    "    swarm = [Particle(rand(pso.bounds[1]:pso.bounds[2], pso.dim), rand(-pso.max_vel:pso.max_vel, pso.dim), zeros(pso.dim), Inf, Inf) for _ in 1:pso.num_particles]\n",
    "    global_best_position = nothing\n",
    "    global_best_fitness = Inf\n",
    "\n",
    "    for _ in 1:pso.max_iter\n",
    "        for particle in swarm\n",
    "            particle.fitness = pso.objective_function(particle.position)\n",
    "            if particle.fitness < particle.best_fitness\n",
    "                particle.best_fitness = particle.fitness\n",
    "                copy!(particle.best_position, particle.position)\n",
    "            end\n",
    "            if particle.fitness < global_best_fitness\n",
    "                global_best_fitness = particle.fitness\n",
    "                global_best_position = copy(particle.position)\n",
    "            end\n",
    "        end\n",
    "\n",
    "        for particle in swarm\n",
    "            update_velocity!(particle, pso.w, pso.c1, pso.c2, global_best_position)\n",
    "            update_position!(particle, pso.bounds)\n",
    "        end\n",
    "    end\n",
    "\n",
    "    return global_best_position, global_best_fitness\n",
    "end\n",
    "\n",
    "# Define sphere function\n",
    "sphere_function(x) = sum(x.^2)\n",
    "\n",
    "# Initialize PSO parameters\n",
    "pso = PSO(sphere_function, 50, 10, 100, 0.5, (-5.12, 5.12), 0.872, 1.49445, 1.49445)\n",
    "\n",
    "# Run optimization\n",
    "best_position, best_fitness = optimize(pso)\n",
    "\n",
    "# Print results\n",
    "println(\"Best position: $best_position\")\n",
    "println(\"Best fitness: $best_fitness\")\n"
   ]
  },
  {
   "cell_type": "code",
   "execution_count": null,
   "id": "e7fb3d1a-1354-4a77-bd5e-d33e3b3e0371",
   "metadata": {
    "editable": true,
    "slideshow": {
     "slide_type": ""
    },
    "tags": []
   },
   "outputs": [],
   "source": []
  }
 ],
 "metadata": {
  "kernelspec": {
   "display_name": "Julia 1.10.2",
   "language": "julia",
   "name": "julia-1.10"
  },
  "language_info": {
   "file_extension": ".jl",
   "mimetype": "application/julia",
   "name": "julia",
   "version": "1.10.2"
  }
 },
 "nbformat": 4,
 "nbformat_minor": 5
}
